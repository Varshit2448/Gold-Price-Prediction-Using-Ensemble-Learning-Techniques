{
 "cells": [
  {
   "cell_type": "markdown",
   "id": "add8756b-b7d8-4b15-ae86-29c6daa38572",
   "metadata": {},
   "source": [
    "# Import The Libraries"
   ]
  },
  {
   "cell_type": "code",
   "execution_count": 5,
   "id": "2b2307d1-ad20-44d8-9eb2-f572b362897a",
   "metadata": {},
   "outputs": [
    {
     "ename": "ModuleNotFoundError",
     "evalue": "No module named 'numpy'",
     "output_type": "error",
     "traceback": [
      "\u001b[1;31m---------------------------------------------------------------------------\u001b[0m",
      "\u001b[1;31mModuleNotFoundError\u001b[0m                       Traceback (most recent call last)",
      "Cell \u001b[1;32mIn[5], line 1\u001b[0m\n\u001b[1;32m----> 1\u001b[0m \u001b[38;5;28;01mimport\u001b[39;00m \u001b[38;5;21;01mnumpy\u001b[39;00m \u001b[38;5;28;01mas\u001b[39;00m \u001b[38;5;21;01mnp\u001b[39;00m\n\u001b[0;32m      2\u001b[0m \u001b[38;5;28;01mimport\u001b[39;00m \u001b[38;5;21;01mpandas\u001b[39;00m \u001b[38;5;28;01mas\u001b[39;00m \u001b[38;5;21;01mpd\u001b[39;00m\n\u001b[0;32m      3\u001b[0m \u001b[38;5;28;01mimport\u001b[39;00m \u001b[38;5;21;01mseaborn\u001b[39;00m \u001b[38;5;28;01mas\u001b[39;00m \u001b[38;5;21;01msns\u001b[39;00m\n",
      "\u001b[1;31mModuleNotFoundError\u001b[0m: No module named 'numpy'"
     ]
    }
   ],
   "source": [
    "import numpy as np\n",
    "import pandas as pd\n",
    "import seaborn as sns\n",
    "from sklearn.model_selection import train_test_split\n",
    "import matplotlib.pyplot as plt\n",
    "from sklearn.ensemble import RandomForestRegressor\n",
    "from sklearn import metrics"
   ]
  },
  {
   "cell_type": "markdown",
   "id": "1f7a2496-dc21-4930-8b3f-aca0f055d326",
   "metadata": {},
   "source": [
    "# Collection Preprocessing the Dataset"
   ]
  },
  {
   "cell_type": "code",
   "execution_count": 2,
   "id": "f985feac-e98d-4918-965c-17b75ea0474b",
   "metadata": {},
   "outputs": [],
   "source": [
    "gold_data = pd.read_csv('gld_price_data.csv')\n"
   ]
  },
  {
   "cell_type": "code",
   "execution_count": null,
   "id": "e10ae335-00af-4be3-bbce-373f2fa31cff",
   "metadata": {},
   "outputs": [],
   "source": [
    "gold_data.head()"
   ]
  },
  {
   "cell_type": "code",
   "execution_count": null,
   "id": "cdf2e0fb-25c0-4759-a025-e7ea7a877dbc",
   "metadata": {},
   "outputs": [],
   "source": [
    "gold_data.isnull().sum()"
   ]
  },
  {
   "cell_type": "markdown",
   "id": "1c2fca51-3d12-433b-96d1-489b2dd171c8",
   "metadata": {},
   "source": [
    "# Statistical Analysis of"
   ]
  },
  {
   "cell_type": "code",
   "execution_count": null,
   "id": "283d90e8-281f-4ea5-aecf-8c25014ddc99",
   "metadata": {},
   "outputs": [],
   "source": [
    "gold_data.describe()"
   ]
  },
  {
   "cell_type": "markdown",
   "id": "18937211-a6f3-42f8-9b2f-4a81a3ebd503",
   "metadata": {},
   "source": [
    "# Relations Extraction from Dataset"
   ]
  },
  {
   "cell_type": "code",
   "execution_count": null,
   "id": "d8e4f254-2d87-47c2-aa2f-b6b8da10cd62",
   "metadata": {},
   "outputs": [],
   "source": [
    "gold_data.drop(['Date'] , axis = 1 , inplace = True)\n",
    "correlation = gold_data.corr()\n",
    "print(correlation)"
   ]
  },
  {
   "cell_type": "markdown",
   "id": "1f5331fd-cc23-44e7-8cf6-a3f75a8a5e30",
   "metadata": {},
   "source": [
    "# Correlation Visulisation"
   ]
  },
  {
   "cell_type": "code",
   "execution_count": null,
   "id": "2b00d420-2c3e-4ae7-8358-9721688c7743",
   "metadata": {},
   "outputs": [],
   "source": [
    "plt.figure(figsize=(10, 10))\n",
    "sns.heatmap(correlation, cbar=True, square=True, annot=True, annot_kws={'size': 12}, cmap='coolwarm', linewidths=0.5, linecolor='gray', fmt=\".2f\")\n",
    "plt.show()\n"
   ]
  },
  {
   "cell_type": "code",
   "execution_count": null,
   "id": "3f6c0e58-333f-47a0-a2da-2be69ec7438f",
   "metadata": {},
   "outputs": [],
   "source": [
    "gold_data = pd.read_csv('gld_price_data.csv')\n",
    "sns.distplot(gold_data['GLD'] , color = 'green')"
   ]
  },
  {
   "cell_type": "code",
   "execution_count": null,
   "id": "ce2dd2cf-7eb9-4c5d-ae56-59f9be20bc2b",
   "metadata": {},
   "outputs": [],
   "source": [
    "X = gold_data.drop(['GLD','Date'] , axis = 1)\n",
    "#gold_data = pd.read_csv('gld_price_data.csv')\n",
    "Y = gold_data['GLD']\n",
    "print(X)\n",
    "print(Y)"
   ]
  },
  {
   "cell_type": "markdown",
   "id": "ed060b12-a8a8-4961-a044-8f4454d73ed3",
   "metadata": {},
   "source": [
    "# Split the Data"
   ]
  },
  {
   "cell_type": "code",
   "execution_count": 10,
   "id": "23f27512-e80b-492d-b788-b49be1505755",
   "metadata": {},
   "outputs": [],
   "source": [
    "x_train , x_test , y_train , y_test = train_test_split(X , Y , test_size = 0.2 , random_state = 42)"
   ]
  },
  {
   "cell_type": "markdown",
   "id": "d740ba6b-1cb9-4ca0-889e-fe008eb4ed22",
   "metadata": {},
   "source": [
    "# Train and Load the Model"
   ]
  },
  {
   "cell_type": "code",
   "execution_count": 11,
   "id": "9c72f6de-5f12-4cd8-8b10-624d91d00ebb",
   "metadata": {},
   "outputs": [],
   "source": [
    "regressor = RandomForestRegressor(n_estimators = 100)\n"
   ]
  },
  {
   "cell_type": "code",
   "execution_count": null,
   "id": "16a51c57-19e4-40d4-b0a1-5271c61c46e7",
   "metadata": {},
   "outputs": [],
   "source": [
    "regressor.fit(x_train,y_train)"
   ]
  },
  {
   "cell_type": "markdown",
   "id": "971dc3df-422b-4341-be08-b6cce602f07a",
   "metadata": {},
   "source": [
    "# Evaluate"
   ]
  },
  {
   "cell_type": "code",
   "execution_count": null,
   "id": "ae8d1949-ad7f-4aad-ab39-86b96259f84f",
   "metadata": {},
   "outputs": [],
   "source": [
    "test_data_evaluation = regressor.predict(x_test)\n",
    "print(test_data_evaluation)\n",
    "error_rate = metrics.r2_score(y_test,test_data_evaluation)\n",
    "print(error_rate)"
   ]
  },
  {
   "cell_type": "code",
   "execution_count": null,
   "id": "9bd334a0-4822-48dc-b949-925471db1858",
   "metadata": {},
   "outputs": [],
   "source": [
    "pip install joblib"
   ]
  },
  {
   "cell_type": "code",
   "execution_count": null,
   "id": "3dd2218f-eea6-4b42-9c0b-28945bbf31de",
   "metadata": {},
   "outputs": [],
   "source": [
    "from joblib import dump, load\n",
    "dump(regressor, 'random_forest_model.joblib')"
   ]
  },
  {
   "cell_type": "code",
   "execution_count": 18,
   "id": "3db5bbc8-94bd-4ae8-8859-6c8d94590193",
   "metadata": {},
   "outputs": [],
   "source": [
    "from joblib import dump, load # Load the model \n",
    "loaded_model = load('random_forest_model.joblib')"
   ]
  },
  {
   "cell_type": "code",
   "execution_count": null,
   "id": "bca866c4-8e3e-4032-bdc8-18787c37a4cc",
   "metadata": {},
   "outputs": [],
   "source": []
  }
 ],
 "metadata": {
  "kernelspec": {
   "display_name": "Python 3 (ipykernel)",
   "language": "python",
   "name": "python3"
  },
  "language_info": {
   "codemirror_mode": {
    "name": "ipython",
    "version": 3
   },
   "file_extension": ".py",
   "mimetype": "text/x-python",
   "name": "python",
   "nbconvert_exporter": "python",
   "pygments_lexer": "ipython3",
   "version": "3.11.7"
  }
 },
 "nbformat": 4,
 "nbformat_minor": 5
}
